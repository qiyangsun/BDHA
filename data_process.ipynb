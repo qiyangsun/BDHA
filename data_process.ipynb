{
  "nbformat": 4,
  "nbformat_minor": 0,
  "metadata": {
    "colab": {
      "provenance": [],
      "mount_file_id": "1IpgXFAswdGMJjv8UsbAuYPJaBwSTYzy5",
      "authorship_tag": "ABX9TyPHMvtxV+nqoufQVVmFJ7+w",
      "include_colab_link": true
    },
    "kernelspec": {
      "name": "python3",
      "display_name": "Python 3"
    },
    "language_info": {
      "name": "python"
    }
  },
  "cells": [
    {
      "cell_type": "markdown",
      "metadata": {
        "id": "view-in-github",
        "colab_type": "text"
      },
      "source": [
        "<a href=\"https://colab.research.google.com/github/qiyangsun/BDHA/blob/main/data_process.ipynb\" target=\"_parent\"><img src=\"https://colab.research.google.com/assets/colab-badge.svg\" alt=\"Open In Colab\"/></a>"
      ]
    },
    {
      "cell_type": "code",
      "source": [
        "import pandas as pd\n",
        "import torch\n",
        "from torch.nn.utils.rnn import pad_sequence\n",
        "from torch.utils.data import DataLoader, Dataset\n",
        "import pandas as pd\n",
        "from sklearn.preprocessing import LabelEncoder"
      ],
      "metadata": {
        "id": "NeQw606mL1q7"
      },
      "execution_count": 17,
      "outputs": []
    },
    {
      "cell_type": "markdown",
      "source": [
        "### Loading data"
      ],
      "metadata": {
        "id": "UrYbDcE9LPIL"
      }
    },
    {
      "cell_type": "code",
      "source": [
        "# Step 1: Load data from a CSV file\n",
        "file_path = \"/content/drive/MyDrive/Colab Notebooks/analytical_ready_1124.csv\"  # Replace with your CSV file path\n",
        "df = pd.read_csv(file_path)\n",
        "# Display the first few rows to understand the data structure\n",
        "print(\"Original Data:\")\n",
        "print(df.head())"
      ],
      "metadata": {
        "colab": {
          "base_uri": "https://localhost:8080/"
        },
        "id": "nosvdjriLOmz",
        "outputId": "6b0a523b-9c47-4689-8b06-b572999202af"
      },
      "execution_count": 23,
      "outputs": [
        {
          "output_type": "stream",
          "name": "stdout",
          "text": [
            "Original Data:\n",
            "           unique_id          charttime_r  temperature_r  heartrate_r  \\\n",
            "0  10002755_31312310  2137-03-07 17:42:00           97.5        102.0   \n",
            "1  10002755_31312310  2137-03-07 19:54:00           98.0         91.0   \n",
            "2  10002755_31312310  2137-03-07 23:06:00           98.1        100.0   \n",
            "3  10010920_34816072  2150-10-05 02:20:00           99.0         95.0   \n",
            "4  10010920_34816072  2150-10-05 06:12:00           98.6         87.0   \n",
            "\n",
            "   resprate_r  o2sat_r  sbp_r  dbp_r gender         race_r  ...     sbp_7  \\\n",
            "0        18.0      NaN  131.0   71.0      F  UNKNOWN_OTHER  ...  6.028144   \n",
            "1        16.0     98.0  138.0   63.0      F  UNKNOWN_OTHER  ...  7.005081   \n",
            "2        18.0     98.0  132.0   78.0      F  UNKNOWN_OTHER  ...  7.029545   \n",
            "3        16.0     99.0  130.0   89.0      M          WHITE  ...  5.879107   \n",
            "4        16.0     97.0  137.0   86.0      M          WHITE  ...  6.900827   \n",
            "\n",
            "      sbp_8     dbp_1     dbp_2     dbp_3     dbp_4     dbp_5     dbp_6  \\\n",
            "0  5.817720  5.837371  6.002669  5.910049  6.038254  5.900535  5.819177   \n",
            "1  6.984485  3.916302  4.062123  3.905994  3.867325  4.052968  3.990040   \n",
            "2  6.952972  7.116859  7.010448  7.137728  7.043870  6.927984  7.061059   \n",
            "3  6.212405  9.022676  9.006518  9.043707  8.788611  8.930415  8.804312   \n",
            "4  7.312774  7.922969  8.134793  8.222502  8.025863  7.973101  8.109781   \n",
            "\n",
            "      dbp_7     dbp_8  \n",
            "0  5.943805  5.903796  \n",
            "1  3.869399  3.909681  \n",
            "2  7.034362  7.084826  \n",
            "3  9.074905  8.971882  \n",
            "4  7.963104  8.071772  \n",
            "\n",
            "[5 rows x 72 columns]\n"
          ]
        }
      ]
    },
    {
      "cell_type": "markdown",
      "source": [
        "### Encoding"
      ],
      "metadata": {
        "id": "oebrf3jvN2vP"
      }
    },
    {
      "cell_type": "code",
      "source": [
        "columns_to_encode = ['gender', 'race_r']  # Replace with actual column names\n",
        "\n",
        "# Initialize LabelEncoder\n",
        "encoder = LabelEncoder()\n",
        "\n",
        "# Apply Label Encoding to each column\n",
        "for col in columns_to_encode:\n",
        "    df[f'{col}_encoded'] = encoder.fit_transform(df[col])\n",
        "\n",
        "df.drop(columns=columns_to_encode, inplace=True)\n",
        "\n",
        "# Display the updated DataFrame\n",
        "print(\"\\nData After Encoding:\")\n",
        "print(df.head())"
      ],
      "metadata": {
        "colab": {
          "base_uri": "https://localhost:8080/"
        },
        "id": "4kLqDqPsN5Px",
        "outputId": "4f73c515-a213-42ed-ce75-348120c72fc4"
      },
      "execution_count": 24,
      "outputs": [
        {
          "output_type": "stream",
          "name": "stdout",
          "text": [
            "\n",
            "Data After Encoding:\n",
            "           unique_id          charttime_r  temperature_r  heartrate_r  \\\n",
            "0  10002755_31312310  2137-03-07 17:42:00           97.5        102.0   \n",
            "1  10002755_31312310  2137-03-07 19:54:00           98.0         91.0   \n",
            "2  10002755_31312310  2137-03-07 23:06:00           98.1        100.0   \n",
            "3  10010920_34816072  2150-10-05 02:20:00           99.0         95.0   \n",
            "4  10010920_34816072  2150-10-05 06:12:00           98.6         87.0   \n",
            "\n",
            "   resprate_r  o2sat_r  sbp_r  dbp_r  sepsis       time_admission  ...  \\\n",
            "0        18.0      NaN  131.0   71.0       0  2137-03-07 13:11:00  ...   \n",
            "1        16.0     98.0  138.0   63.0       0  2137-03-07 13:11:00  ...   \n",
            "2        18.0     98.0  132.0   78.0       0  2137-03-07 13:11:00  ...   \n",
            "3        16.0     99.0  130.0   89.0       0  2150-10-04 23:37:00  ...   \n",
            "4        16.0     97.0  137.0   86.0       0  2150-10-04 23:37:00  ...   \n",
            "\n",
            "      dbp_1     dbp_2     dbp_3     dbp_4     dbp_5     dbp_6     dbp_7  \\\n",
            "0  5.837371  6.002669  5.910049  6.038254  5.900535  5.819177  5.943805   \n",
            "1  3.916302  4.062123  3.905994  3.867325  4.052968  3.990040  3.869399   \n",
            "2  7.116859  7.010448  7.137728  7.043870  6.927984  7.061059  7.034362   \n",
            "3  9.022676  9.006518  9.043707  8.788611  8.930415  8.804312  9.074905   \n",
            "4  7.922969  8.134793  8.222502  8.025863  7.973101  8.109781  7.963104   \n",
            "\n",
            "      dbp_8  gender_encoded  race_r_encoded  \n",
            "0  5.903796               0               3  \n",
            "1  3.909681               0               3  \n",
            "2  7.084826               0               3  \n",
            "3  8.971882               1               4  \n",
            "4  8.071772               1               4  \n",
            "\n",
            "[5 rows x 72 columns]\n"
          ]
        }
      ]
    },
    {
      "cell_type": "markdown",
      "source": [
        "### Drop extra"
      ],
      "metadata": {
        "id": "jKp5HiqjOWz0"
      }
    },
    {
      "cell_type": "code",
      "source": [
        "df.drop(columns=['time_admission','charttime_r','time_discharge'], inplace=True)\n",
        "print(df.head())"
      ],
      "metadata": {
        "colab": {
          "base_uri": "https://localhost:8080/"
        },
        "id": "GD1u31GnOWCr",
        "outputId": "e46cd1a6-5b3a-4699-ab71-6c7ce36764f3"
      },
      "execution_count": 25,
      "outputs": [
        {
          "output_type": "stream",
          "name": "stdout",
          "text": [
            "           unique_id  temperature_r  heartrate_r  resprate_r  o2sat_r  sbp_r  \\\n",
            "0  10002755_31312310           97.5        102.0        18.0      NaN  131.0   \n",
            "1  10002755_31312310           98.0         91.0        16.0     98.0  138.0   \n",
            "2  10002755_31312310           98.1        100.0        18.0     98.0  132.0   \n",
            "3  10010920_34816072           99.0         95.0        16.0     99.0  130.0   \n",
            "4  10010920_34816072           98.6         87.0        16.0     97.0  137.0   \n",
            "\n",
            "   dbp_r  sepsis  stay_length_hrs  timepoints  ...     dbp_1     dbp_2  \\\n",
            "0   71.0       0             9.95           1  ...  5.837371  6.002669   \n",
            "1   63.0       0             9.95           2  ...  3.916302  4.062123   \n",
            "2   78.0       0             9.95           3  ...  7.116859  7.010448   \n",
            "3   89.0       0             8.55           1  ...  9.022676  9.006518   \n",
            "4   86.0       0             8.55           2  ...  7.922969  8.134793   \n",
            "\n",
            "      dbp_3     dbp_4     dbp_5     dbp_6     dbp_7     dbp_8  gender_encoded  \\\n",
            "0  5.910049  6.038254  5.900535  5.819177  5.943805  5.903796               0   \n",
            "1  3.905994  3.867325  4.052968  3.990040  3.869399  3.909681               0   \n",
            "2  7.137728  7.043870  6.927984  7.061059  7.034362  7.084826               0   \n",
            "3  9.043707  8.788611  8.930415  8.804312  9.074905  8.971882               1   \n",
            "4  8.222502  8.025863  7.973101  8.109781  7.963104  8.071772               1   \n",
            "\n",
            "   race_r_encoded  \n",
            "0               3  \n",
            "1               3  \n",
            "2               3  \n",
            "3               4  \n",
            "4               4  \n",
            "\n",
            "[5 rows x 69 columns]\n"
          ]
        }
      ]
    },
    {
      "cell_type": "markdown",
      "source": [
        "### Padding"
      ],
      "metadata": {
        "id": "QlwkbYzNLYUP"
      }
    },
    {
      "cell_type": "code",
      "source": [
        "### create the sequence\n",
        "feature = [col for col in df.columns if col != 'unique_id']\n",
        "sequences = df.groupby('unique_id')[feature].apply(lambda x: torch.tensor(x.values, dtype=torch.float32)).tolist()\n",
        "# Step 3: Pad sequences to the same length\n",
        "padded_sequences = pad_sequence(sequences, batch_first=True, padding_value=0.0)\n"
      ],
      "metadata": {
        "id": "nYeyvdEiLXo9"
      },
      "execution_count": 26,
      "outputs": []
    },
    {
      "cell_type": "code",
      "source": [
        "padded_sequences.shape"
      ],
      "metadata": {
        "colab": {
          "base_uri": "https://localhost:8080/"
        },
        "id": "mECJu9GaNWsZ",
        "outputId": "9bf51140-7099-4d4b-b2f1-c4003a9a8a46"
      },
      "execution_count": 31,
      "outputs": [
        {
          "output_type": "execute_result",
          "data": {
            "text/plain": [
              "torch.Size([4499, 109, 68])"
            ]
          },
          "metadata": {},
          "execution_count": 31
        }
      ]
    },
    {
      "cell_type": "code",
      "source": [],
      "metadata": {
        "colab": {
          "base_uri": "https://localhost:8080/"
        },
        "id": "kXtBK4zJPBeZ",
        "outputId": "741bd34f-91fe-4954-b9dc-2a4758a33f88"
      },
      "execution_count": 29,
      "outputs": [
        {
          "output_type": "execute_result",
          "data": {
            "text/plain": [
              "['temperature_r',\n",
              " 'heartrate_r',\n",
              " 'resprate_r',\n",
              " 'o2sat_r',\n",
              " 'sbp_r',\n",
              " 'dbp_r',\n",
              " 'sepsis',\n",
              " 'stay_length_hrs',\n",
              " 'timepoints',\n",
              " 'time_diff',\n",
              " 'time_encoding_1',\n",
              " 'time_encoding_2',\n",
              " 'time_encoding_3',\n",
              " 'time_encoding_4',\n",
              " 'time_encoding_5',\n",
              " 'time_encoding_6',\n",
              " 'time_encoding_7',\n",
              " 'time_encoding_8',\n",
              " 'temperature_1',\n",
              " 'temperature_2',\n",
              " 'temperature_3',\n",
              " 'temperature_4',\n",
              " 'temperature_5',\n",
              " 'temperature_6',\n",
              " 'temperature_7',\n",
              " 'temperature_8',\n",
              " 'heartrate_1',\n",
              " 'heartrate_2',\n",
              " 'heartrate_3',\n",
              " 'heartrate_4',\n",
              " 'heartrate_5',\n",
              " 'heartrate_6',\n",
              " 'heartrate_7',\n",
              " 'heartrate_8',\n",
              " 'resprate_1',\n",
              " 'resprate_2',\n",
              " 'resprate_3',\n",
              " 'resprate_4',\n",
              " 'resprate_5',\n",
              " 'resprate_6',\n",
              " 'resprate_7',\n",
              " 'resprate_8',\n",
              " 'o2sat_1',\n",
              " 'o2sat_2',\n",
              " 'o2sat_3',\n",
              " 'o2sat_4',\n",
              " 'o2sat_5',\n",
              " 'o2sat_6',\n",
              " 'o2sat_7',\n",
              " 'o2sat_8',\n",
              " 'sbp_1',\n",
              " 'sbp_2',\n",
              " 'sbp_3',\n",
              " 'sbp_4',\n",
              " 'sbp_5',\n",
              " 'sbp_6',\n",
              " 'sbp_7',\n",
              " 'sbp_8',\n",
              " 'dbp_1',\n",
              " 'dbp_2',\n",
              " 'dbp_3',\n",
              " 'dbp_4',\n",
              " 'dbp_5',\n",
              " 'dbp_6',\n",
              " 'dbp_7',\n",
              " 'dbp_8',\n",
              " 'gender_encoded',\n",
              " 'race_r_encoded']"
            ]
          },
          "metadata": {},
          "execution_count": 29
        }
      ]
    },
    {
      "cell_type": "markdown",
      "source": [
        "### save"
      ],
      "metadata": {
        "id": "D_Rp03lSOwI4"
      }
    },
    {
      "cell_type": "code",
      "source": [
        "array_sequence = padded_sequences.numpy()\n",
        "\n",
        "# Step 2: Flatten the sequence for CSV storage\n",
        "# Each row in the CSV will represent one timestep (batch_index, sequence_index, feature_values)\n",
        "flattened_data = []\n",
        "for batch_idx, batch in enumerate(array_sequence):\n",
        "    for time_idx, time_step in enumerate(batch):\n",
        "        flattened_data.append([batch_idx, time_idx] + list(time_step))\n",
        "\n",
        "# Step 3: Create a DataFrame\n",
        "columns = ['batch_idx', 'time_idx'] + feature\n",
        "df = pd.DataFrame(flattened_data, columns=columns)\n",
        "df.drop(columns=['timepoints',''], inplace=True)\n",
        "# Step 4: Save the DataFrame to a CSV file\n",
        "output_file = \"tensor_sequence.csv\"\n",
        "df.to_csv(output_file, index=False)\n",
        "print(f\"Tensor sequence saved to {output_file}\")"
      ],
      "metadata": {
        "colab": {
          "base_uri": "https://localhost:8080/"
        },
        "id": "DGNFo3P5OxA7",
        "outputId": "c4069bf5-c427-4763-b5ee-aa79e87872b2"
      },
      "execution_count": 34,
      "outputs": [
        {
          "output_type": "stream",
          "name": "stdout",
          "text": [
            "Tensor sequence saved to tensor_sequence.csv\n"
          ]
        }
      ]
    },
    {
      "cell_type": "code",
      "source": [],
      "metadata": {
        "id": "M0iaCnvuO3Gm"
      },
      "execution_count": null,
      "outputs": []
    }
  ]
}